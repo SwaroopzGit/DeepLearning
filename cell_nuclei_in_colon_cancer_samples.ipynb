{
 "cells": [
  {
   "cell_type": "code",
   "execution_count": 1,
   "id": "contemporary-venue",
   "metadata": {
    "_cell_guid": "b1076dfc-b9ad-4769-8c92-a6c4dae69d19",
    "_uuid": "8f2839f25d086af736a60e9eeb907d3b93b6e0e5",
    "execution": {
     "iopub.execute_input": "2021-05-24T09:35:45.416783Z",
     "iopub.status.busy": "2021-05-24T09:35:45.415299Z",
     "iopub.status.idle": "2021-05-24T09:35:46.686450Z",
     "shell.execute_reply": "2021-05-24T09:35:46.685456Z",
     "shell.execute_reply.started": "2021-05-23T15:02:49.396860Z"
    },
    "papermill": {
     "duration": 1.29848,
     "end_time": "2021-05-24T09:35:46.686620",
     "exception": false,
     "start_time": "2021-05-24T09:35:45.388140",
     "status": "completed"
    },
    "scrolled": true,
    "tags": []
   },
   "outputs": [],
   "source": [
    "# This Python 3 environment comes with many helpful analytics libraries installed\n",
    "# It is defined by the kaggle/python Docker image: https://github.com/kaggle/docker-python\n",
    "# For example, here's several helpful packages to load\n",
    "\n",
    "import numpy as np # linear algebra\n",
    "import pandas as pd # data processing, CSV file I/O (e.g. pd.read_csv)\n",
    "# Common imports\n",
    "import os\n",
    "import torch\n",
    "import torch.nn as nn\n",
    "import torch.nn.functional as F\n",
    "import torch.optim as optim\n",
    "from collections import Counter\n",
    "import matplotlib.pyplot as plt\n",
    "\n",
    "from torchvision.datasets import ImageFolder\n",
    "import torchvision.transforms as tt\n",
    "from torch.utils.data import DataLoader , TensorDataset, WeightedRandomSampler, random_split\n",
    "from PIL import Image\n",
    "# Input data files are available in the read-only \"../input/\" directory\n",
    "# For example, running this (by clicking run or pressing Shift+Enter) will list all files under the input directory\n",
    "\n",
    "# import os\n",
    "# for dirname, _, filenames in os.walk('/kaggle/input/'):\n",
    "#     for filename in filenames:\n",
    "#         print(os.path.join(dirname, filename))\n",
    "\n",
    "# You can write up to 20GB to the current directory (/kaggle/working/) that gets preserved as output when you create a version using \"Save & Run All\" \n",
    "# You can also write temporary files to /kaggle/temp/, but they won't be saved outside of the current session"
   ]
  },
  {
   "cell_type": "markdown",
   "id": "former-minister",
   "metadata": {
    "papermill": {
     "duration": 0.023263,
     "end_time": "2021-05-24T09:35:46.734373",
     "exception": false,
     "start_time": "2021-05-24T09:35:46.711110",
     "status": "completed"
    },
    "tags": []
   },
   "source": [
    "# Earlystopping code from the internet."
   ]
  },
  {
   "cell_type": "code",
   "execution_count": 2,
   "id": "exotic-assurance",
   "metadata": {
    "execution": {
     "iopub.execute_input": "2021-05-24T09:35:46.790428Z",
     "iopub.status.busy": "2021-05-24T09:35:46.789647Z",
     "iopub.status.idle": "2021-05-24T09:35:46.792300Z",
     "shell.execute_reply": "2021-05-24T09:35:46.791892Z",
     "shell.execute_reply.started": "2021-05-23T15:02:49.410356Z"
    },
    "papermill": {
     "duration": 0.035418,
     "end_time": "2021-05-24T09:35:46.792417",
     "exception": false,
     "start_time": "2021-05-24T09:35:46.756999",
     "status": "completed"
    },
    "tags": []
   },
   "outputs": [],
   "source": [
    "class EarlyStopping:\n",
    "    \"\"\"Early stops the training if validation loss doesn't improve after a given patience.\"\"\"\n",
    "    def __init__(self, patience=10, verbose=False, delta=0, path='checkpoint.pt', trace_func=print):\n",
    "        \"\"\"\n",
    "        Args:\n",
    "            patience (int): How long to wait after last time validation loss improved.\n",
    "                            Default: 7\n",
    "            verbose (bool): If True, prints a message for each validation loss improvement. \n",
    "                            Default: False\n",
    "            delta (float): Minimum change in the monitored quantity to qualify as an improvement.\n",
    "                            Default: 0\n",
    "            path (str): Path for the checkpoint to be saved to.\n",
    "                            Default: 'checkpoint.pt'\n",
    "            trace_func (function): trace print function.\n",
    "                            Default: print            \n",
    "        \"\"\"\n",
    "        self.patience = patience\n",
    "        self.verbose = verbose\n",
    "        self.counter = 0\n",
    "        self.best_score = None\n",
    "        self.early_stop = False\n",
    "        self.val_loss_min = np.Inf\n",
    "        self.delta = delta\n",
    "        self.path = path\n",
    "        self.trace_func = trace_func\n",
    "    def __call__(self, val_loss, model):\n",
    "\n",
    "        score = -val_loss\n",
    "\n",
    "        if self.best_score is None:\n",
    "            self.best_score = score\n",
    "            self.save_checkpoint(val_loss, model)\n",
    "        elif score < self.best_score + self.delta:\n",
    "            self.counter += 1\n",
    "            self.trace_func(f'EarlyStopping counter: {self.counter} out of {self.patience}')\n",
    "            if self.counter >= self.patience:\n",
    "                self.early_stop = True\n",
    "        else:\n",
    "            self.best_score = score\n",
    "            self.save_checkpoint(val_loss, model)\n",
    "            self.counter = 0\n",
    "\n",
    "    def save_checkpoint(self, val_loss, model):\n",
    "        '''Saves model when validation loss decrease.'''\n",
    "        if self.verbose:\n",
    "            self.trace_func(f'Validation loss decreased ({self.val_loss_min:.6f} --> {val_loss:.6f}).  Saving model ...')\n",
    "        torch.save(model.state_dict(), self.path)\n",
    "        self.val_loss_min = val_loss"
   ]
  },
  {
   "cell_type": "markdown",
   "id": "careful-detector",
   "metadata": {
    "papermill": {
     "duration": 0.022165,
     "end_time": "2021-05-24T09:35:46.836750",
     "exception": false,
     "start_time": "2021-05-24T09:35:46.814585",
     "status": "completed"
    },
    "tags": []
   },
   "source": [
    "# Custom DataLoader class\n",
    " * To tensor and Tried Flipping (disabled in the final version)"
   ]
  },
  {
   "cell_type": "code",
   "execution_count": 3,
   "id": "finite-environment",
   "metadata": {
    "execution": {
     "iopub.execute_input": "2021-05-24T09:35:46.891236Z",
     "iopub.status.busy": "2021-05-24T09:35:46.890424Z",
     "iopub.status.idle": "2021-05-24T09:35:46.892972Z",
     "shell.execute_reply": "2021-05-24T09:35:46.892578Z",
     "shell.execute_reply.started": "2021-05-23T15:02:49.429734Z"
    },
    "papermill": {
     "duration": 0.032874,
     "end_time": "2021-05-24T09:35:46.893083",
     "exception": false,
     "start_time": "2021-05-24T09:35:46.860209",
     "status": "completed"
    },
    "tags": []
   },
   "outputs": [],
   "source": [
    "class DataSet():\n",
    "    def __init__(self, root, labels, folder):\n",
    "        \"\"\"Init function should not do any heavy lifting, but\n",
    "            must initialize how many items are available in this data set.\n",
    "        \"\"\"\n",
    "\n",
    "        self.ROOT = root\n",
    "        self.images = DataSet._get_data(root, os.listdir(root + \"/\"+folder), folder)\n",
    "        self.labels = torch.tensor(labels)\n",
    "\n",
    "    def __len__(self):\n",
    "        \"\"\"return number of points in our dataset\"\"\"\n",
    "\n",
    "        return len(self.images)\n",
    "    \n",
    "    @classmethod\n",
    "    def _get_data(cls,root,img_list, folder):\n",
    "        data_list = []\n",
    "        for img_path in img_list:\n",
    "#             print(os.path.join(root + \"/\"+folder +\"/\",img_path))\n",
    "            im_as_np = Image.open(os.path.join(root + \"/\"+folder +\"/\",img_path))\n",
    "#             flip_im_as_np = tt.transforms.RandomHorizontalFlip()(im_as_np) # Tried Flipping\n",
    "            data_list.append(tt.transforms.ToTensor()(im_as_np))\n",
    "#         print(data_list)\n",
    "            #data_list.append(tt.ToTensor().unsqueeze(0))\n",
    "        return torch.stack(data_list, dim=0)\n",
    "\n",
    "    def __getitem__(self, idx):\n",
    "        \"\"\" Here we have to return the item requested by `idx`\n",
    "                    The PyTorch DataLoader class will use this method to make an iterable for\n",
    "                    our training or validation loop.\n",
    "                \"\"\"\n",
    "\n",
    "        img = self.images[idx]\n",
    "        label = self.labels[idx]\n",
    "\n",
    "        return img, label"
   ]
  },
  {
   "cell_type": "markdown",
   "id": "wooden-village",
   "metadata": {
    "papermill": {
     "duration": 0.021988,
     "end_time": "2021-05-24T09:35:46.938233",
     "exception": false,
     "start_time": "2021-05-24T09:35:46.916245",
     "status": "completed"
    },
    "tags": []
   },
   "source": [
    "# Extracting the file names"
   ]
  },
  {
   "cell_type": "code",
   "execution_count": 4,
   "id": "answering-favor",
   "metadata": {
    "execution": {
     "iopub.execute_input": "2021-05-24T09:35:46.987040Z",
     "iopub.status.busy": "2021-05-24T09:35:46.986529Z",
     "iopub.status.idle": "2021-05-24T09:35:47.249798Z",
     "shell.execute_reply": "2021-05-24T09:35:47.248715Z",
     "shell.execute_reply.started": "2021-05-23T15:02:49.448022Z"
    },
    "papermill": {
     "duration": 0.28943,
     "end_time": "2021-05-24T09:35:47.249923",
     "exception": false,
     "start_time": "2021-05-24T09:35:46.960493",
     "status": "completed"
    },
    "scrolled": true,
    "tags": []
   },
   "outputs": [],
   "source": [
    "files_no_ext = [\".\".join(f.split(\".\")[:-1]) for f in os.listdir('/kaggle/input/deep-learning-for-msc-coursework-2021/train/train')]\n",
    "files_no_ext = list(map(int, files_no_ext))\n"
   ]
  },
  {
   "cell_type": "markdown",
   "id": "wired-stevens",
   "metadata": {
    "papermill": {
     "duration": 0.021893,
     "end_time": "2021-05-24T09:35:47.294452",
     "exception": false,
     "start_time": "2021-05-24T09:35:47.272559",
     "status": "completed"
    },
    "tags": []
   },
   "source": [
    "# Load the labels"
   ]
  },
  {
   "cell_type": "code",
   "execution_count": 5,
   "id": "variable-essex",
   "metadata": {
    "execution": {
     "iopub.execute_input": "2021-05-24T09:35:47.343564Z",
     "iopub.status.busy": "2021-05-24T09:35:47.343046Z",
     "iopub.status.idle": "2021-05-24T09:35:47.366899Z",
     "shell.execute_reply": "2021-05-24T09:35:47.366465Z",
     "shell.execute_reply.started": "2021-05-23T15:02:49.473822Z"
    },
    "papermill": {
     "duration": 0.05059,
     "end_time": "2021-05-24T09:35:47.367008",
     "exception": false,
     "start_time": "2021-05-24T09:35:47.316418",
     "status": "completed"
    },
    "tags": []
   },
   "outputs": [],
   "source": [
    "train_data = pd.read_csv(\"/kaggle/input/deep-learning-for-msc-coursework-2021/train.csv\")\n",
    "train_data.set_index('Id', inplace=True)\n",
    "train_data = train_data.reindex(files_no_ext)\n",
    "\n",
    "labels = train_data['Type'].values.tolist()\n",
    "total_labels = [value.strip(' ') for value in labels]\n"
   ]
  },
  {
   "cell_type": "markdown",
   "id": "champion-projection",
   "metadata": {
    "papermill": {
     "duration": 0.021774,
     "end_time": "2021-05-24T09:35:47.410560",
     "exception": false,
     "start_time": "2021-05-24T09:35:47.388786",
     "status": "completed"
    },
    "tags": []
   },
   "source": [
    "# Seed set manually"
   ]
  },
  {
   "cell_type": "code",
   "execution_count": 6,
   "id": "cordless-warrant",
   "metadata": {
    "execution": {
     "iopub.execute_input": "2021-05-24T09:35:47.457715Z",
     "iopub.status.busy": "2021-05-24T09:35:47.457232Z",
     "iopub.status.idle": "2021-05-24T09:35:47.465131Z",
     "shell.execute_reply": "2021-05-24T09:35:47.465599Z",
     "shell.execute_reply.started": "2021-05-23T15:02:49.493285Z"
    },
    "papermill": {
     "duration": 0.033162,
     "end_time": "2021-05-24T09:35:47.465717",
     "exception": false,
     "start_time": "2021-05-24T09:35:47.432555",
     "status": "completed"
    },
    "tags": []
   },
   "outputs": [
    {
     "data": {
      "text/plain": [
       "<torch._C.Generator at 0x7f112012d4b0>"
      ]
     },
     "execution_count": 6,
     "metadata": {},
     "output_type": "execute_result"
    }
   ],
   "source": [
    "# Set the seed for reproducibility\n",
    "torch.manual_seed(0)"
   ]
  },
  {
   "cell_type": "markdown",
   "id": "broadband-harrison",
   "metadata": {
    "papermill": {
     "duration": 0.021965,
     "end_time": "2021-05-24T09:35:47.510086",
     "exception": false,
     "start_time": "2021-05-24T09:35:47.488121",
     "status": "completed"
    },
    "tags": []
   },
   "source": [
    "# Convert into labels from strings"
   ]
  },
  {
   "cell_type": "code",
   "execution_count": 7,
   "id": "julian-announcement",
   "metadata": {
    "execution": {
     "iopub.execute_input": "2021-05-24T09:35:47.558822Z",
     "iopub.status.busy": "2021-05-24T09:35:47.558058Z",
     "iopub.status.idle": "2021-05-24T09:35:47.560671Z",
     "shell.execute_reply": "2021-05-24T09:35:47.560278Z",
     "shell.execute_reply.started": "2021-05-23T15:02:49.503652Z"
    },
    "papermill": {
     "duration": 0.028576,
     "end_time": "2021-05-24T09:35:47.560770",
     "exception": false,
     "start_time": "2021-05-24T09:35:47.532194",
     "status": "completed"
    },
    "scrolled": true,
    "tags": []
   },
   "outputs": [],
   "source": [
    "dic = {'Connective':0, 'Immune':1, 'Cancer':2, 'Normal':3}\n",
    "\n",
    "labels = [dic.get(n, n) for n in total_labels]\n"
   ]
  },
  {
   "cell_type": "code",
   "execution_count": 8,
   "id": "constitutional-highway",
   "metadata": {
    "execution": {
     "iopub.execute_input": "2021-05-24T09:35:47.608830Z",
     "iopub.status.busy": "2021-05-24T09:35:47.608168Z",
     "iopub.status.idle": "2021-05-24T09:35:59.186957Z",
     "shell.execute_reply": "2021-05-24T09:35:59.188027Z",
     "shell.execute_reply.started": "2021-05-23T15:02:49.530431Z"
    },
    "papermill": {
     "duration": 11.605206,
     "end_time": "2021-05-24T09:35:59.188259",
     "exception": false,
     "start_time": "2021-05-24T09:35:47.583053",
     "status": "completed"
    },
    "scrolled": true,
    "tags": []
   },
   "outputs": [],
   "source": [
    "ds = DataSet('/kaggle/input/deep-learning-for-msc-coursework-2021/train', labels, \"train\")"
   ]
  },
  {
   "cell_type": "code",
   "execution_count": null,
   "id": "emerging-doubt",
   "metadata": {
    "papermill": {
     "duration": 0.037906,
     "end_time": "2021-05-24T09:35:59.265567",
     "exception": false,
     "start_time": "2021-05-24T09:35:59.227661",
     "status": "completed"
    },
    "tags": []
   },
   "outputs": [],
   "source": []
  },
  {
   "cell_type": "markdown",
   "id": "continent-genius",
   "metadata": {
    "papermill": {
     "duration": 0.036805,
     "end_time": "2021-05-24T09:35:59.340558",
     "exception": false,
     "start_time": "2021-05-24T09:35:59.303753",
     "status": "completed"
    },
    "tags": []
   },
   "source": [
    "# Validation Set - about 30%"
   ]
  },
  {
   "cell_type": "code",
   "execution_count": 9,
   "id": "posted-highland",
   "metadata": {
    "execution": {
     "iopub.execute_input": "2021-05-24T09:35:59.424044Z",
     "iopub.status.busy": "2021-05-24T09:35:59.421561Z",
     "iopub.status.idle": "2021-05-24T09:35:59.429334Z",
     "shell.execute_reply": "2021-05-24T09:35:59.429967Z",
     "shell.execute_reply.started": "2021-05-23T15:02:54.610337Z"
    },
    "papermill": {
     "duration": 0.052797,
     "end_time": "2021-05-24T09:35:59.430170",
     "exception": false,
     "start_time": "2021-05-24T09:35:59.377373",
     "status": "completed"
    },
    "tags": []
   },
   "outputs": [
    {
     "data": {
      "text/plain": [
       "(1652, 538)"
      ]
     },
     "execution_count": 9,
     "metadata": {},
     "output_type": "execute_result"
    }
   ],
   "source": [
    "val_size = 538\n",
    "train_size = len(ds) - val_size\n",
    "train_ds, val_ds = random_split(ds, [train_size, val_size])\n",
    "\n",
    "len(train_ds), len(val_ds)"
   ]
  },
  {
   "cell_type": "markdown",
   "id": "alternative-estate",
   "metadata": {
    "papermill": {
     "duration": 0.036089,
     "end_time": "2021-05-24T09:35:59.503987",
     "exception": false,
     "start_time": "2021-05-24T09:35:59.467898",
     "status": "completed"
    },
    "tags": []
   },
   "source": [
    "* Using weighted **Random sampler**, sample the undersampled ('Normal') class more\n"
   ]
  },
  {
   "cell_type": "code",
   "execution_count": 10,
   "id": "double-passion",
   "metadata": {
    "execution": {
     "iopub.execute_input": "2021-05-24T09:35:59.565153Z",
     "iopub.status.busy": "2021-05-24T09:35:59.564613Z",
     "iopub.status.idle": "2021-05-24T09:35:59.568426Z",
     "shell.execute_reply": "2021-05-24T09:35:59.568016Z",
     "shell.execute_reply.started": "2021-05-23T15:02:54.623974Z"
    },
    "papermill": {
     "duration": 0.032623,
     "end_time": "2021-05-24T09:35:59.568535",
     "exception": false,
     "start_time": "2021-05-24T09:35:59.535912",
     "status": "completed"
    },
    "tags": []
   },
   "outputs": [],
   "source": [
    "\n",
    "def wrsampler(dataset):\n",
    "    class_weights = []\n",
    "    counter_dict = dict(Counter(labels))\n",
    "    print(counter_dict)\n",
    "    sample_weights = [0] * len(dataset)\n",
    "    # print(sample_weights)\n",
    "    for idx, (data,label) in enumerate(dataset):\n",
    "        class_weight = 1/counter_dict[int(label)]\n",
    "        sample_weights[idx] = class_weight\n",
    "    #     print(class_weight)\n",
    "\n",
    "    sampler = WeightedRandomSampler(sample_weights, num_samples = len(sample_weights), replacement = True)\n",
    "    loader = torch.utils.data.DataLoader(dataset, batch_size = 16, shuffle=False, sampler = sampler)\n",
    "\n",
    "    after_weights = []\n",
    "    for d,l in loader:\n",
    "        after_weights.extend(list(l.tolist()))\n",
    "    print(Counter(after_weights))\n",
    "    return loader"
   ]
  },
  {
   "cell_type": "code",
   "execution_count": null,
   "id": "higher-samuel",
   "metadata": {
    "papermill": {
     "duration": 0.022352,
     "end_time": "2021-05-24T09:35:59.613426",
     "exception": false,
     "start_time": "2021-05-24T09:35:59.591074",
     "status": "completed"
    },
    "tags": []
   },
   "outputs": [],
   "source": []
  },
  {
   "cell_type": "markdown",
   "id": "suffering-jason",
   "metadata": {
    "papermill": {
     "duration": 0.022997,
     "end_time": "2021-05-24T09:35:59.658962",
     "exception": false,
     "start_time": "2021-05-24T09:35:59.635965",
     "status": "completed"
    },
    "tags": []
   },
   "source": [
    "**Model Definition**\n",
    "1. With Dropout at Visible and hidden layers\n",
    "2. Batch Normalization\n",
    "3. Maxpooling\n",
    "4. Weight Decay - 0.0001\n",
    "5. Learning rate - 0.0001"
   ]
  },
  {
   "cell_type": "code",
   "execution_count": 11,
   "id": "passing-princeton",
   "metadata": {
    "execution": {
     "iopub.execute_input": "2021-05-24T09:35:59.723752Z",
     "iopub.status.busy": "2021-05-24T09:35:59.723102Z",
     "iopub.status.idle": "2021-05-24T09:35:59.802866Z",
     "shell.execute_reply": "2021-05-24T09:35:59.802390Z",
     "shell.execute_reply.started": "2021-05-23T15:02:54.638668Z"
    },
    "papermill": {
     "duration": 0.120952,
     "end_time": "2021-05-24T09:35:59.802988",
     "exception": false,
     "start_time": "2021-05-24T09:35:59.682036",
     "status": "completed"
    },
    "tags": []
   },
   "outputs": [],
   "source": [
    "import collections\n",
    "\n",
    "Nhidden = 25 # experiment with this\n",
    "lamb=0.0001\n",
    "lr = 0.0001\n",
    "epochs = 100\n",
    "torch.cuda.empty_cache()\n",
    "net2d = nn.Sequential(collections.OrderedDict([\n",
    "        ('conv1', nn.Conv2d(3,64,3, padding=1 )), # 16*64*64  64-5+1+4=64\n",
    "        ('Norm1', nn.BatchNorm2d(64)),\n",
    "        ('relu1', nn.ReLU()),\n",
    "        ('pool1', nn.MaxPool2d(2,2)), # 16*32*32\n",
    "    \n",
    "        ('conv3', nn.Conv2d(64,128,3, padding=1)), # 64*16*16  \n",
    "        ('Norm2', nn.BatchNorm2d(128)),\n",
    "        ('relu3', nn.ReLU()),\n",
    "        ('Dropout1', nn.Dropout(0.25)),\n",
    "        ('pool3', nn.MaxPool2d(2,2)),\n",
    "    \n",
    "    \n",
    "        ('conv5', nn.Conv2d(128,512,3, padding=1)), # 128*8*8\n",
    "        ('Norm3', nn.BatchNorm2d(512)),\n",
    "        ('relu5', nn.ReLU()),\n",
    "        ('Dropout2', nn.Dropout(0.25)),\n",
    "        ('pool5', nn.MaxPool2d(2,2)),\n",
    "\n",
    "        ('conv6', nn.Conv2d(512,512,3, padding=1)), # 128*8*8\n",
    "        ('Norm4', nn.BatchNorm2d(512)),\n",
    "        ('Dropout3', nn.Dropout(0.25)),\n",
    "        ('relu6', nn.ReLU()),\n",
    "        ('pool6', nn.MaxPool2d(2,2)),\n",
    "    \n",
    "        ('flatten', nn.Flatten()),\n",
    "        ('layer1', nn.Linear(512*4*4,1024)),\n",
    "        ('relu7', nn.ReLU()),\n",
    "        ('Dropout4', nn.Dropout(0.25)),\n",
    "\n",
    "        ('layer2', nn.Linear(1024,512)),\n",
    "        ('relu8', nn.ReLU()),\n",
    "        ('Dropout5', nn.Dropout(0.25)),\n",
    "\n",
    "    \n",
    "        ('layer5', nn.Linear(512,4)),  \n",
    "        ]))\n"
   ]
  },
  {
   "cell_type": "code",
   "execution_count": null,
   "id": "addressed-processing",
   "metadata": {
    "papermill": {
     "duration": 0.02309,
     "end_time": "2021-05-24T09:35:59.849295",
     "exception": false,
     "start_time": "2021-05-24T09:35:59.826205",
     "status": "completed"
    },
    "tags": []
   },
   "outputs": [],
   "source": []
  },
  {
   "cell_type": "code",
   "execution_count": 12,
   "id": "secret-garlic",
   "metadata": {
    "execution": {
     "iopub.execute_input": "2021-05-24T09:35:59.974057Z",
     "iopub.status.busy": "2021-05-24T09:35:59.973437Z",
     "iopub.status.idle": "2021-05-24T09:36:04.165606Z",
     "shell.execute_reply": "2021-05-24T09:36:04.165118Z",
     "shell.execute_reply.started": "2021-05-23T15:02:54.761602Z"
    },
    "papermill": {
     "duration": 4.293176,
     "end_time": "2021-05-24T09:36:04.165734",
     "exception": false,
     "start_time": "2021-05-24T09:35:59.872558",
     "status": "completed"
    },
    "tags": []
   },
   "outputs": [],
   "source": [
    "use_cuda = True\n",
    "device = torch.device(\"cuda\" if (use_cuda and torch.cuda.is_available()) else \"cpu\")\n",
    "if torch.cuda.is_available():\n",
    "    modelfi = net2d.cuda()\n",
    "else:\n",
    "    modelfi = net2d\n"
   ]
  },
  {
   "cell_type": "code",
   "execution_count": 13,
   "id": "unnecessary-ribbon",
   "metadata": {
    "execution": {
     "iopub.execute_input": "2021-05-24T09:36:04.215840Z",
     "iopub.status.busy": "2021-05-24T09:36:04.215036Z",
     "iopub.status.idle": "2021-05-24T09:36:04.218188Z",
     "shell.execute_reply": "2021-05-24T09:36:04.218609Z",
     "shell.execute_reply.started": "2021-05-23T15:02:54.783378Z"
    },
    "papermill": {
     "duration": 0.030145,
     "end_time": "2021-05-24T09:36:04.218728",
     "exception": false,
     "start_time": "2021-05-24T09:36:04.188583",
     "status": "completed"
    },
    "tags": []
   },
   "outputs": [
    {
     "data": {
      "text/plain": [
       "device(type='cuda')"
      ]
     },
     "execution_count": 13,
     "metadata": {},
     "output_type": "execute_result"
    }
   ],
   "source": [
    "device"
   ]
  },
  {
   "cell_type": "markdown",
   "id": "radio-briefs",
   "metadata": {
    "papermill": {
     "duration": 0.023216,
     "end_time": "2021-05-24T09:36:04.264517",
     "exception": false,
     "start_time": "2021-05-24T09:36:04.241301",
     "status": "completed"
    },
    "tags": []
   },
   "source": [
    "**Loaders Train and Validation**"
   ]
  },
  {
   "cell_type": "code",
   "execution_count": 14,
   "id": "increased-sunday",
   "metadata": {
    "execution": {
     "iopub.execute_input": "2021-05-24T09:36:04.314103Z",
     "iopub.status.busy": "2021-05-24T09:36:04.313475Z",
     "iopub.status.idle": "2021-05-24T09:36:04.372665Z",
     "shell.execute_reply": "2021-05-24T09:36:04.372038Z",
     "shell.execute_reply.started": "2021-05-23T15:02:54.793783Z"
    },
    "papermill": {
     "duration": 0.08556,
     "end_time": "2021-05-24T09:36:04.372818",
     "exception": false,
     "start_time": "2021-05-24T09:36:04.287258",
     "status": "completed"
    },
    "tags": []
   },
   "outputs": [
    {
     "name": "stdout",
     "output_type": "stream",
     "text": [
      "{3: 189, 0: 726, 1: 729, 2: 546}\n",
      "Counter({3: 434, 0: 433, 2: 409, 1: 376})\n",
      "{3: 189, 0: 726, 1: 729, 2: 546}\n",
      "Counter({1: 168, 0: 133, 2: 126, 3: 111})\n"
     ]
    }
   ],
   "source": [
    "loader = wrsampler(train_ds)\n",
    "val_loader = wrsampler(val_ds)"
   ]
  },
  {
   "cell_type": "markdown",
   "id": "frequent-worker",
   "metadata": {
    "papermill": {
     "duration": 0.022761,
     "end_time": "2021-05-24T09:36:04.419642",
     "exception": false,
     "start_time": "2021-05-24T09:36:04.396881",
     "status": "completed"
    },
    "tags": []
   },
   "source": [
    "# Train and Perform Early stopping with the help of Validation set"
   ]
  },
  {
   "cell_type": "code",
   "execution_count": 15,
   "id": "excellent-antigua",
   "metadata": {
    "execution": {
     "iopub.execute_input": "2021-05-24T09:36:04.477234Z",
     "iopub.status.busy": "2021-05-24T09:36:04.476546Z",
     "iopub.status.idle": "2021-05-24T09:36:27.577923Z",
     "shell.execute_reply": "2021-05-24T09:36:27.577492Z",
     "shell.execute_reply.started": "2021-05-23T15:02:54.872559Z"
    },
    "papermill": {
     "duration": 23.135624,
     "end_time": "2021-05-24T09:36:27.578049",
     "exception": false,
     "start_time": "2021-05-24T09:36:04.442425",
     "status": "completed"
    },
    "tags": []
   },
   "outputs": [
    {
     "name": "stdout",
     "output_type": "stream",
     "text": [
      "2021-05-24 09:36:06.904482 Epoch 1, Training loss 94.5222941339016\n",
      "[  1/100] train_loss: 0.90887 valid_loss: 0.85275\n",
      "[  2/100] train_loss: 0.66792 valid_loss: 0.63960\n",
      "[  3/100] train_loss: 0.56580 valid_loss: 0.59671\n",
      "[  4/100] train_loss: 0.47962 valid_loss: 0.68008\n",
      "EarlyStopping counter: 1 out of 10\n",
      "[  5/100] train_loss: 0.39304 valid_loss: 1.24896\n",
      "EarlyStopping counter: 2 out of 10\n",
      "[  6/100] train_loss: 0.35584 valid_loss: 0.75679\n",
      "EarlyStopping counter: 3 out of 10\n",
      "[  7/100] train_loss: 0.32402 valid_loss: 0.68395\n",
      "EarlyStopping counter: 4 out of 10\n",
      "[  8/100] train_loss: 0.22209 valid_loss: 0.93978\n",
      "EarlyStopping counter: 5 out of 10\n",
      "[  9/100] train_loss: 0.16737 valid_loss: 0.95685\n",
      "EarlyStopping counter: 6 out of 10\n",
      "2021-05-24 09:36:22.516732 Epoch 10, Training loss 17.5916685461998\n",
      "[ 10/100] train_loss: 0.16915 valid_loss: 0.81921\n",
      "EarlyStopping counter: 7 out of 10\n",
      "[ 11/100] train_loss: 0.12087 valid_loss: 1.29122\n",
      "EarlyStopping counter: 8 out of 10\n",
      "[ 12/100] train_loss: 0.06736 valid_loss: 1.34542\n",
      "EarlyStopping counter: 9 out of 10\n",
      "[ 13/100] train_loss: 0.05290 valid_loss: 1.29382\n",
      "EarlyStopping counter: 10 out of 10\n",
      "Early stopping\n"
     ]
    }
   ],
   "source": [
    "import datetime as datetime\n",
    "epoch_print_gap = 10\n",
    "optimizer = optim.Adam(modelfi.parameters(), lr=lr, weight_decay=lamb) # Note that this is adding L2 regularisation with factor lamb to every parameter\n",
    "loss_fn = nn.CrossEntropyLoss()\n",
    "epoch_dict = {}\n",
    "prev_loss = 0\n",
    "\n",
    "# to track the training loss as the model trains\n",
    "train_losses = []\n",
    "# to track the validation loss as the model trains\n",
    "valid_losses = []\n",
    "avg_train_losses = []\n",
    "avg_valid_losses = []\n",
    "\n",
    "\n",
    "early_stopping = EarlyStopping()\n",
    "for epoch in range(1, epochs + 1):\n",
    "    loss_train = 0.0\n",
    "    loss_val = 0.0\n",
    "    for imgs, tlabels in loader:\n",
    "        outputs = modelfi(imgs.to(device))\n",
    "        loss = loss_fn(outputs, tlabels.to(device))\n",
    "\n",
    "        optimizer.zero_grad()\n",
    "        loss.backward()\n",
    "        optimizer.step()\n",
    "        loss_train += loss.item()\n",
    "        train_losses.append(loss.item())\n",
    "    if epoch ==1:\n",
    "        prev_loss = loss_train\n",
    "        \n",
    "    epoch_dict[epoch] = loss_train\n",
    "    \n",
    "    \n",
    "    if epoch == 1 or epoch % epoch_print_gap == 0:\n",
    "        print('{} Epoch {}, Training loss {}'.format(\n",
    "            datetime.datetime.now(), epoch, float(loss_train)))\n",
    "        \n",
    "    ######################    \n",
    "    # validate the model #\n",
    "    ######################\n",
    "    modelfi.eval() # prep model for evaluation\n",
    "    for data, target in val_loader:\n",
    "        # forward pass: compute predicted outputs by passing inputs to the model\n",
    "        output = modelfi(data.to(device))\n",
    "        # calculate the loss\n",
    "        loss = loss_fn(output, target.to(device))\n",
    "        # record validation loss\n",
    "        loss_val += loss.item()\n",
    "        valid_losses.append(loss.item())\n",
    "\n",
    "    # print training/validation statistics \n",
    "    # calculate average loss over an epoch\n",
    "    train_loss = np.average(train_losses)\n",
    "    valid_loss = np.average(valid_losses)\n",
    "    avg_train_losses.append(train_loss)\n",
    "    avg_valid_losses.append(valid_loss)\n",
    "\n",
    "    epoch_len = len(str(epochs))\n",
    "\n",
    "    print_msg = (f'[{epoch:>{epoch_len}}/{epochs:>{epoch_len}}] ' +\n",
    "                 f'train_loss: {train_loss:.5f} ' +\n",
    "                 f'valid_loss: {valid_loss:.5f}')\n",
    "\n",
    "    print(print_msg)\n",
    "\n",
    "    # clear lists to track next epoch\n",
    "    train_losses = []\n",
    "    valid_losses = []\n",
    "\n",
    "    #early_stopping needs the validation loss to check if it has decresed, \n",
    "    #and if it has, it will make a checkpoint of the current model\n",
    "    early_stopping(valid_loss, modelfi)\n",
    "\n",
    "    if early_stopping.early_stop:\n",
    "        print(\"Early stopping\")\n",
    "        break"
   ]
  },
  {
   "cell_type": "code",
   "execution_count": 16,
   "id": "satisfied-moscow",
   "metadata": {
    "execution": {
     "iopub.execute_input": "2021-05-24T09:36:27.634863Z",
     "iopub.status.busy": "2021-05-24T09:36:27.634305Z",
     "iopub.status.idle": "2021-05-24T09:36:27.640330Z",
     "shell.execute_reply": "2021-05-24T09:36:27.639838Z",
     "shell.execute_reply.started": "2021-05-23T15:03:19.063045Z"
    },
    "papermill": {
     "duration": 0.035792,
     "end_time": "2021-05-24T09:36:27.640449",
     "exception": false,
     "start_time": "2021-05-24T09:36:27.604657",
     "status": "completed"
    },
    "tags": []
   },
   "outputs": [
    {
     "data": {
      "text/plain": [
       "datetime.datetime(2021, 5, 24, 9, 36, 27, 632952)"
      ]
     },
     "execution_count": 16,
     "metadata": {},
     "output_type": "execute_result"
    }
   ],
   "source": [
    "datetime.datetime.now()"
   ]
  },
  {
   "cell_type": "markdown",
   "id": "still-novelty",
   "metadata": {
    "papermill": {
     "duration": 0.026308,
     "end_time": "2021-05-24T09:36:27.693122",
     "exception": false,
     "start_time": "2021-05-24T09:36:27.666814",
     "status": "completed"
    },
    "tags": []
   },
   "source": [
    "# Test Loop"
   ]
  },
  {
   "cell_type": "markdown",
   "id": "offshore-shirt",
   "metadata": {
    "papermill": {
     "duration": 0.02633,
     "end_time": "2021-05-24T09:36:27.746011",
     "exception": false,
     "start_time": "2021-05-24T09:36:27.719681",
     "status": "completed"
    },
    "tags": []
   },
   "source": []
  },
  {
   "cell_type": "code",
   "execution_count": 17,
   "id": "pleasant-oliver",
   "metadata": {
    "_kg_hide-output": true,
    "execution": {
     "iopub.execute_input": "2021-05-24T09:36:27.808373Z",
     "iopub.status.busy": "2021-05-24T09:36:27.807772Z",
     "iopub.status.idle": "2021-05-24T09:36:27.964007Z",
     "shell.execute_reply": "2021-05-24T09:36:27.964566Z",
     "shell.execute_reply.started": "2021-05-23T15:03:19.071909Z"
    },
    "papermill": {
     "duration": 0.191568,
     "end_time": "2021-05-24T09:36:27.964750",
     "exception": false,
     "start_time": "2021-05-24T09:36:27.773182",
     "status": "completed"
    },
    "tags": []
   },
   "outputs": [
    {
     "name": "stdout",
     "output_type": "stream",
     "text": [
      "\n",
      "Test set: Average loss: 0.0813, Accuracy: 372/538 (69%)\n",
      "\n",
      "tensor([[1],\n",
      "        [1],\n",
      "        [0],\n",
      "        [1],\n",
      "        [2],\n",
      "        [0],\n",
      "        [2],\n",
      "        [2],\n",
      "        [1],\n",
      "        [0]], device='cuda:0') tensor([[1],\n",
      "        [1],\n",
      "        [2],\n",
      "        [0],\n",
      "        [2],\n",
      "        [2],\n",
      "        [2],\n",
      "        [2],\n",
      "        [0],\n",
      "        [1]], device='cuda:0')\n"
     ]
    }
   ],
   "source": [
    "\n",
    "def test_loop(model, device, test_loader, loss_fn):\n",
    "    model.eval()\n",
    "    model = model.to(device)\n",
    "    test_loss = 0\n",
    "    correct = 0\n",
    "    with torch.no_grad():\n",
    "        for data, target in test_loader:\n",
    "            data, target = data.to(device), target.to(device)\n",
    "            output = model(data)\n",
    "            test_loss += loss_fn(output, target).item()  # sum up batch loss\n",
    "            pred = output.argmax(dim=1, keepdim=True)  # get the index of the max log-probability\n",
    "#             print(\"Target\", target, pred)\n",
    "            correct += pred.eq(target.view_as(pred)).sum().item()\n",
    "\n",
    "    test_loss /= len(test_loader.dataset)\n",
    "\n",
    "    print('\\nTest set: Average loss: {:.4f}, Accuracy: {}/{} ({:.0f}%)\\n'.format(\n",
    "        test_loss, correct, len(test_loader.dataset),\n",
    "        100. * correct / len(test_loader.dataset)))\n",
    "    print(pred, (target.view_as(pred)))\n",
    "# test on Val\n",
    "test_loop(modelfi, device, val_loader, loss_fn)\n"
   ]
  },
  {
   "cell_type": "markdown",
   "id": "fitted-powder",
   "metadata": {
    "papermill": {
     "duration": 0.026864,
     "end_time": "2021-05-24T09:36:28.019288",
     "exception": false,
     "start_time": "2021-05-24T09:36:27.992424",
     "status": "completed"
    },
    "tags": []
   },
   "source": [
    "# Plot Loss against Epochs & Early stopping\n"
   ]
  },
  {
   "cell_type": "code",
   "execution_count": 18,
   "id": "suburban-philadelphia",
   "metadata": {
    "execution": {
     "iopub.execute_input": "2021-05-24T09:36:28.094089Z",
     "iopub.status.busy": "2021-05-24T09:36:28.093499Z",
     "iopub.status.idle": "2021-05-24T09:36:28.473724Z",
     "shell.execute_reply": "2021-05-24T09:36:28.473268Z",
     "shell.execute_reply.started": "2021-05-23T15:03:19.252772Z"
    },
    "papermill": {
     "duration": 0.426863,
     "end_time": "2021-05-24T09:36:28.473861",
     "exception": false,
     "start_time": "2021-05-24T09:36:28.046998",
     "status": "completed"
    },
    "tags": []
   },
   "outputs": [
    {
     "data": {
      "image/png": "[encoded data removed]",
      "text/plain": [
       "<Figure size 720x576 with 1 Axes>"
      ]
     },
     "metadata": {
      "needs_background": "light"
     },
     "output_type": "display_data"
    }
   ],
   "source": [
    "# visualize the loss as the network trained\n",
    "fig = plt.figure(figsize=(10,8))\n",
    "plt.plot(range(1,len(avg_train_losses)+1),avg_train_losses, label='Training Loss')\n",
    "plt.plot(range(1,len(avg_valid_losses)+1),avg_valid_losses,label='Validation Loss')\n",
    "\n",
    "# find position of lowest validation loss\n",
    "minposs = avg_valid_losses.index(min(avg_valid_losses))+1 \n",
    "plt.axvline(minposs, linestyle='--', color='r',label='Early Stopping Checkpoint')\n",
    "\n",
    "plt.xlabel('epochs')\n",
    "plt.ylabel('loss')\n",
    "plt.ylim(0, 0.5) # consistent scale\n",
    "plt.xlim(0, len(avg_train_losses)+1) # consistent scale\n",
    "plt.grid(True)\n",
    "plt.legend()\n",
    "plt.tight_layout()\n",
    "plt.show()\n",
    "fig.savefig('loss_plot.png', bbox_inches='tight')"
   ]
  },
  {
   "cell_type": "markdown",
   "id": "attended-sustainability",
   "metadata": {
    "papermill": {
     "duration": 0.027719,
     "end_time": "2021-05-24T09:36:28.529926",
     "exception": false,
     "start_time": "2021-05-24T09:36:28.502207",
     "status": "completed"
    },
    "tags": []
   },
   "source": [
    "# Converting back from labels to strings."
   ]
  },
  {
   "cell_type": "code",
   "execution_count": 19,
   "id": "reduced-roommate",
   "metadata": {
    "execution": {
     "iopub.execute_input": "2021-05-24T09:36:28.591101Z",
     "iopub.status.busy": "2021-05-24T09:36:28.590600Z",
     "iopub.status.idle": "2021-05-24T09:36:31.072961Z",
     "shell.execute_reply": "2021-05-24T09:36:31.071977Z",
     "shell.execute_reply.started": "2021-05-23T15:03:19.931258Z"
    },
    "papermill": {
     "duration": 2.515327,
     "end_time": "2021-05-24T09:36:31.073109",
     "exception": false,
     "start_time": "2021-05-24T09:36:28.557782",
     "status": "completed"
    },
    "tags": []
   },
   "outputs": [
    {
     "name": "stdout",
     "output_type": "stream",
     "text": [
      "Counter({2: 133, 0: 128, 1: 89, 3: 50})\n"
     ]
    }
   ],
   "source": [
    "datasett = ImageFolder(\"../input/deep-learning-for-msc-coursework-2021/test/\", transform=tt.Compose([tt.ToTensor()]))\n",
    "test_loader = torch.utils.data.DataLoader(datasett)\n",
    "output_final = []\n",
    "for data, target in test_loader:\n",
    "    #data, target = data.to(device), target.to(device)\n",
    "    output = modelfi(data.to(device))\n",
    "    output_final.extend(list(output.argmax(dim=1, keepdim=True).storage()))\n",
    "    \n",
    "print(Counter(output_final))\n",
    "dic = {0:'Connective', 1:'Immune', 2:'Cancer', 3:'Normal'}"
   ]
  },
  {
   "cell_type": "markdown",
   "id": "indie-steps",
   "metadata": {
    "papermill": {
     "duration": 0.029216,
     "end_time": "2021-05-24T09:36:31.131906",
     "exception": false,
     "start_time": "2021-05-24T09:36:31.102690",
     "status": "completed"
    },
    "tags": []
   },
   "source": [
    "# Results Predicted:\n",
    "   # * Cancer: 133 \n",
    "   # * Connective : 128 \n",
    "   # * Immune: 89\n",
    "   # * Normal: 50\n",
    "\n"
   ]
  },
  {
   "cell_type": "markdown",
   "id": "regular-wells",
   "metadata": {
    "papermill": {
     "duration": 0.028166,
     "end_time": "2021-05-24T09:36:31.189418",
     "exception": false,
     "start_time": "2021-05-24T09:36:31.161252",
     "status": "completed"
    },
    "tags": []
   },
   "source": [
    "# To CSV"
   ]
  },
  {
   "cell_type": "code",
   "execution_count": 20,
   "id": "derived-smooth",
   "metadata": {
    "execution": {
     "iopub.execute_input": "2021-05-24T09:36:31.252019Z",
     "iopub.status.busy": "2021-05-24T09:36:31.251501Z",
     "iopub.status.idle": "2021-05-24T09:36:31.373367Z",
     "shell.execute_reply": "2021-05-24T09:36:31.372514Z",
     "shell.execute_reply.started": "2021-05-23T15:03:21.817219Z"
    },
    "papermill": {
     "duration": 0.155617,
     "end_time": "2021-05-24T09:36:31.373509",
     "exception": false,
     "start_time": "2021-05-24T09:36:31.217892",
     "status": "completed"
    },
    "tags": []
   },
   "outputs": [],
   "source": [
    "real_output = [dic.get(n, n) for n in output_final]\n",
    "# d = pd.DataFrame(range(10001, 10401), real_output)\n",
    "d = {'Id': np.arange(10001, 10401), 'Type': real_output}\n",
    "df = pd.DataFrame(data=d)\n",
    "df.to_csv(\"test.csv\", index=False)"
   ]
  }
 ],
 "metadata": {
  "kernelspec": {
   "display_name": "Python 3",
   "language": "python",
   "name": "python3"
  },
  "language_info": {
   "codemirror_mode": {
    "name": "ipython",
    "version": 3
   },
   "file_extension": ".py",
   "mimetype": "text/x-python",
   "name": "python",
   "nbconvert_exporter": "python",
   "pygments_lexer": "ipython3",
   "version": "3.7.10"
  },
  "papermill": {
   "default_parameters": {},
   "duration": 54.641588,
   "end_time": "2021-05-24T09:36:33.301132",
   "environment_variables": {},
   "exception": null,
   "input_path": "__notebook__.ipynb",
   "output_path": "__notebook__.ipynb",
   "parameters": {},
   "start_time": "2021-05-24T09:35:38.659544",
   "version": "2.3.3"
  }
 },
 "nbformat": 4,
 "nbformat_minor": 5
}
